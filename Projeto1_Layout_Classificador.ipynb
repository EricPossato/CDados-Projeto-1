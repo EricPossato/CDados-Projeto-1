{
 "cells": [
  {
   "cell_type": "markdown",
   "metadata": {},
   "source": [
    "# Projeto 1 - Ciência dos Dados"
   ]
  },
  {
   "cell_type": "markdown",
   "metadata": {},
   "source": [
    "Nome: _____\n",
    "\n",
    "Nome: _____"
   ]
  },
  {
   "cell_type": "markdown",
   "metadata": {},
   "source": [
    "Atenção: Serão permitidos grupos de três pessoas, mas com uma rubrica mais exigente. Grupos deste tamanho precisarão fazer um questionário de avaliação de trabalho em equipe"
   ]
  },
  {
   "cell_type": "markdown",
   "metadata": {},
   "source": [
    "___\n",
    "Carregando algumas bibliotecas:"
   ]
  },
  {
   "cell_type": "code",
   "execution_count": 3,
   "metadata": {},
   "outputs": [],
   "source": [
    "%matplotlib inline\n",
    "import pandas as pd\n",
    "import matplotlib.pyplot as plt\n",
    "import numpy as np\n",
    "import os"
   ]
  },
  {
   "cell_type": "code",
   "execution_count": 4,
   "metadata": {
    "scrolled": false
   },
   "outputs": [
    {
     "name": "stdout",
     "output_type": "stream",
     "text": [
      "Esperamos trabalhar no diretório\n",
      "C:\\Users\\GabrielNichols\\Desktop\\dessoft\\CDados-Projeto-1\n"
     ]
    }
   ],
   "source": [
    "print('Esperamos trabalhar no diretório')\n",
    "print(os.getcwd())"
   ]
  },
  {
   "cell_type": "code",
   "execution_count": 13,
   "metadata": {},
   "outputs": [],
   "source": []
  },
  {
   "cell_type": "code",
   "execution_count": null,
   "metadata": {},
   "outputs": [],
   "source": []
  },
  {
   "cell_type": "markdown",
   "metadata": {},
   "source": [
    "Carregando a base de dados com os tweets classificados como relevantes e não relevantes:"
   ]
  },
  {
   "cell_type": "code",
   "execution_count": 31,
   "metadata": {},
   "outputs": [],
   "source": [
    "filename = 'vaper.xlsx'"
   ]
  },
  {
   "cell_type": "code",
   "execution_count": null,
   "metadata": {},
   "outputs": [],
   "source": []
  },
  {
   "cell_type": "code",
   "execution_count": 32,
   "metadata": {},
   "outputs": [
    {
     "data": {
      "text/html": [
       "<div>\n",
       "<style scoped>\n",
       "    .dataframe tbody tr th:only-of-type {\n",
       "        vertical-align: middle;\n",
       "    }\n",
       "\n",
       "    .dataframe tbody tr th {\n",
       "        vertical-align: top;\n",
       "    }\n",
       "\n",
       "    .dataframe thead th {\n",
       "        text-align: right;\n",
       "    }\n",
       "</style>\n",
       "<table border=\"1\" class=\"dataframe\">\n",
       "  <thead>\n",
       "    <tr style=\"text-align: right;\">\n",
       "      <th></th>\n",
       "      <th>Treinamento</th>\n",
       "      <th>Relevancia</th>\n",
       "    </tr>\n",
       "  </thead>\n",
       "  <tbody>\n",
       "    <tr>\n",
       "      <th>0</th>\n",
       "      <td>eu dando teto preto depois de 01 coisada no va...</td>\n",
       "      <td>0</td>\n",
       "    </tr>\n",
       "    <tr>\n",
       "      <th>1</th>\n",
       "      <td>minha vó fumando vaper kkkkkkkkkkkkkkkkkkkk</td>\n",
       "      <td>0</td>\n",
       "    </tr>\n",
       "    <tr>\n",
       "      <th>2</th>\n",
       "      <td>e eu que ganhei um vaper do meu patrão kkkkkk</td>\n",
       "      <td>0</td>\n",
       "    </tr>\n",
       "    <tr>\n",
       "      <th>3</th>\n",
       "      <td>lembrei agora que fiquei bebada segunda e diss...</td>\n",
       "      <td>0</td>\n",
       "    </tr>\n",
       "    <tr>\n",
       "      <th>4</th>\n",
       "      <td>aí q vontade de comprar um vaper novo</td>\n",
       "      <td>0</td>\n",
       "    </tr>\n",
       "    <tr>\n",
       "      <th>5</th>\n",
       "      <td>aparentemente eu tentei comprar um vaper bebad...</td>\n",
       "      <td>0</td>\n",
       "    </tr>\n",
       "    <tr>\n",
       "      <th>6</th>\n",
       "      <td>pensando em comprar um vaper vei</td>\n",
       "      <td>0</td>\n",
       "    </tr>\n",
       "    <tr>\n",
       "      <th>7</th>\n",
       "      <td>@negotalles depois que meu amigo tudo começou ...</td>\n",
       "      <td>0</td>\n",
       "    </tr>\n",
       "    <tr>\n",
       "      <th>8</th>\n",
       "      <td>minha proxima aquisição vai ser um vaper 🤓</td>\n",
       "      <td>0</td>\n",
       "    </tr>\n",
       "    <tr>\n",
       "      <th>9</th>\n",
       "      <td>onde eu compro vaper aqui no rio de janeiro, q...</td>\n",
       "      <td>0</td>\n",
       "    </tr>\n",
       "  </tbody>\n",
       "</table>\n",
       "</div>"
      ],
      "text/plain": [
       "                                         Treinamento  Relevancia\n",
       "0  eu dando teto preto depois de 01 coisada no va...           0\n",
       "1        minha vó fumando vaper kkkkkkkkkkkkkkkkkkkk           0\n",
       "2      e eu que ganhei um vaper do meu patrão kkkkkk           0\n",
       "3  lembrei agora que fiquei bebada segunda e diss...           0\n",
       "4              aí q vontade de comprar um vaper novo           0\n",
       "5  aparentemente eu tentei comprar um vaper bebad...           0\n",
       "6                   pensando em comprar um vaper vei           0\n",
       "7  @negotalles depois que meu amigo tudo começou ...           0\n",
       "8         minha proxima aquisição vai ser um vaper 🤓           0\n",
       "9  onde eu compro vaper aqui no rio de janeiro, q...           0"
      ]
     },
     "execution_count": 32,
     "metadata": {},
     "output_type": "execute_result"
    }
   ],
   "source": [
    "train = pd.read_excel(filename)\n",
    "train.head(10)"
   ]
  },
  {
   "cell_type": "code",
   "execution_count": 33,
   "metadata": {},
   "outputs": [
    {
     "data": {
      "text/html": [
       "<div>\n",
       "<style scoped>\n",
       "    .dataframe tbody tr th:only-of-type {\n",
       "        vertical-align: middle;\n",
       "    }\n",
       "\n",
       "    .dataframe tbody tr th {\n",
       "        vertical-align: top;\n",
       "    }\n",
       "\n",
       "    .dataframe thead th {\n",
       "        text-align: right;\n",
       "    }\n",
       "</style>\n",
       "<table border=\"1\" class=\"dataframe\">\n",
       "  <thead>\n",
       "    <tr style=\"text-align: right;\">\n",
       "      <th></th>\n",
       "      <th>Treinamento</th>\n",
       "      <th>Relevancia</th>\n",
       "    </tr>\n",
       "  </thead>\n",
       "  <tbody>\n",
       "    <tr>\n",
       "      <th>0</th>\n",
       "      <td>eu dando teto preto depois de 01 coisada no va...</td>\n",
       "      <td>0</td>\n",
       "    </tr>\n",
       "    <tr>\n",
       "      <th>1</th>\n",
       "      <td>minha vó fumando vaper kkkkkkkkkkkkkkkkkkkk</td>\n",
       "      <td>0</td>\n",
       "    </tr>\n",
       "    <tr>\n",
       "      <th>2</th>\n",
       "      <td>e eu que ganhei um vaper do meu patrão kkkkkk</td>\n",
       "      <td>0</td>\n",
       "    </tr>\n",
       "    <tr>\n",
       "      <th>3</th>\n",
       "      <td>lembrei agora que fiquei bebada segunda e diss...</td>\n",
       "      <td>0</td>\n",
       "    </tr>\n",
       "    <tr>\n",
       "      <th>4</th>\n",
       "      <td>aí q vontade de comprar um vaper novo</td>\n",
       "      <td>0</td>\n",
       "    </tr>\n",
       "    <tr>\n",
       "      <th>5</th>\n",
       "      <td>aparentemente eu tentei comprar um vaper bebad...</td>\n",
       "      <td>0</td>\n",
       "    </tr>\n",
       "    <tr>\n",
       "      <th>6</th>\n",
       "      <td>pensando em comprar um vaper vei</td>\n",
       "      <td>0</td>\n",
       "    </tr>\n",
       "    <tr>\n",
       "      <th>7</th>\n",
       "      <td>@negotalles depois que meu amigo tudo começou ...</td>\n",
       "      <td>0</td>\n",
       "    </tr>\n",
       "    <tr>\n",
       "      <th>8</th>\n",
       "      <td>minha proxima aquisição vai ser um vaper 🤓</td>\n",
       "      <td>0</td>\n",
       "    </tr>\n",
       "    <tr>\n",
       "      <th>9</th>\n",
       "      <td>onde eu compro vaper aqui no rio de janeiro qu...</td>\n",
       "      <td>0</td>\n",
       "    </tr>\n",
       "  </tbody>\n",
       "</table>\n",
       "</div>"
      ],
      "text/plain": [
       "                                         Treinamento  Relevancia\n",
       "0  eu dando teto preto depois de 01 coisada no va...           0\n",
       "1        minha vó fumando vaper kkkkkkkkkkkkkkkkkkkk           0\n",
       "2      e eu que ganhei um vaper do meu patrão kkkkkk           0\n",
       "3  lembrei agora que fiquei bebada segunda e diss...           0\n",
       "4              aí q vontade de comprar um vaper novo           0\n",
       "5  aparentemente eu tentei comprar um vaper bebad...           0\n",
       "6                   pensando em comprar um vaper vei           0\n",
       "7  @negotalles depois que meu amigo tudo começou ...           0\n",
       "8         minha proxima aquisição vai ser um vaper 🤓           0\n",
       "9  onde eu compro vaper aqui no rio de janeiro qu...           0"
      ]
     },
     "execution_count": 33,
     "metadata": {},
     "output_type": "execute_result"
    }
   ],
   "source": [
    "train['Treinamento'] = train['Treinamento'].str.replace('[!-.:?;]', '')\n",
    "train.head(10)"
   ]
  },
  {
   "cell_type": "code",
   "execution_count": 34,
   "metadata": {},
   "outputs": [
    {
     "data": {
      "text/html": [
       "<div>\n",
       "<style scoped>\n",
       "    .dataframe tbody tr th:only-of-type {\n",
       "        vertical-align: middle;\n",
       "    }\n",
       "\n",
       "    .dataframe tbody tr th {\n",
       "        vertical-align: top;\n",
       "    }\n",
       "\n",
       "    .dataframe thead th {\n",
       "        text-align: right;\n",
       "    }\n",
       "</style>\n",
       "<table border=\"1\" class=\"dataframe\">\n",
       "  <thead>\n",
       "    <tr style=\"text-align: right;\">\n",
       "      <th></th>\n",
       "      <th>Teste</th>\n",
       "      <th>Relevancia</th>\n",
       "    </tr>\n",
       "  </thead>\n",
       "  <tbody>\n",
       "    <tr>\n",
       "      <th>0</th>\n",
       "      <td>viciar en vaper ? serio ? nao to acreditando, ...</td>\n",
       "      <td>0</td>\n",
       "    </tr>\n",
       "    <tr>\n",
       "      <th>1</th>\n",
       "      <td>to há meses com um vaper que não acaba!!!!! to...</td>\n",
       "      <td>1</td>\n",
       "    </tr>\n",
       "    <tr>\n",
       "      <th>2</th>\n",
       "      <td>em minha casinha, fumando meu vaper e na paz d...</td>\n",
       "      <td>0</td>\n",
       "    </tr>\n",
       "    <tr>\n",
       "      <th>3</th>\n",
       "      <td>@_biagrazyy ela usou um vaper e ainda me mostr...</td>\n",
       "      <td>1</td>\n",
       "    </tr>\n",
       "    <tr>\n",
       "      <th>4</th>\n",
       "      <td>@irafaelatavares eu sábado caindo bebeda.\\nesp...</td>\n",
       "      <td>0</td>\n",
       "    </tr>\n",
       "  </tbody>\n",
       "</table>\n",
       "</div>"
      ],
      "text/plain": [
       "                                               Teste  Relevancia\n",
       "0  viciar en vaper ? serio ? nao to acreditando, ...           0\n",
       "1  to há meses com um vaper que não acaba!!!!! to...           1\n",
       "2  em minha casinha, fumando meu vaper e na paz d...           0\n",
       "3  @_biagrazyy ela usou um vaper e ainda me mostr...           1\n",
       "4  @irafaelatavares eu sábado caindo bebeda.\\nesp...           0"
      ]
     },
     "execution_count": 34,
     "metadata": {},
     "output_type": "execute_result"
    }
   ],
   "source": [
    "test = pd.read_excel(filename, sheet_name = 'Teste')\n",
    "test.head(5)"
   ]
  },
  {
   "cell_type": "code",
   "execution_count": 64,
   "metadata": {},
   "outputs": [
    {
     "data": {
      "text/html": [
       "<div>\n",
       "<style scoped>\n",
       "    .dataframe tbody tr th:only-of-type {\n",
       "        vertical-align: middle;\n",
       "    }\n",
       "\n",
       "    .dataframe tbody tr th {\n",
       "        vertical-align: top;\n",
       "    }\n",
       "\n",
       "    .dataframe thead th {\n",
       "        text-align: right;\n",
       "    }\n",
       "</style>\n",
       "<table border=\"1\" class=\"dataframe\">\n",
       "  <thead>\n",
       "    <tr style=\"text-align: right;\">\n",
       "      <th></th>\n",
       "      <th>Teste</th>\n",
       "      <th>Relevancia</th>\n",
       "    </tr>\n",
       "  </thead>\n",
       "  <tbody>\n",
       "    <tr>\n",
       "      <th>0</th>\n",
       "      <td>viciar en vaper  serio  nao to acreditando me ...</td>\n",
       "      <td>0</td>\n",
       "    </tr>\n",
       "    <tr>\n",
       "      <th>1</th>\n",
       "      <td>to há meses com um vaper que não acaba to chocada</td>\n",
       "      <td>1</td>\n",
       "    </tr>\n",
       "    <tr>\n",
       "      <th>2</th>\n",
       "      <td>em minha casinha fumando meu vaper e na paz do...</td>\n",
       "      <td>0</td>\n",
       "    </tr>\n",
       "    <tr>\n",
       "      <th>3</th>\n",
       "      <td>@_biagrazyy ela usou um vaper e ainda me mostr...</td>\n",
       "      <td>1</td>\n",
       "    </tr>\n",
       "    <tr>\n",
       "      <th>4</th>\n",
       "      <td>@irafaelatavares eu sábado caindo bebeda\\nespe...</td>\n",
       "      <td>0</td>\n",
       "    </tr>\n",
       "    <tr>\n",
       "      <th>...</th>\n",
       "      <td>...</td>\n",
       "      <td>...</td>\n",
       "    </tr>\n",
       "    <tr>\n",
       "      <th>195</th>\n",
       "      <td>e se eu comprar um vaper</td>\n",
       "      <td>0</td>\n",
       "    </tr>\n",
       "    <tr>\n",
       "      <th>196</th>\n",
       "      <td>eu guardo o vaper tão bem que as vezes vou pro...</td>\n",
       "      <td>0</td>\n",
       "    </tr>\n",
       "    <tr>\n",
       "      <th>197</th>\n",
       "      <td>pora só queria meu vaper de novo</td>\n",
       "      <td>0</td>\n",
       "    </tr>\n",
       "    <tr>\n",
       "      <th>198</th>\n",
       "      <td>@lunaisnice eu falo o vaper em si nunca usei</td>\n",
       "      <td>0</td>\n",
       "    </tr>\n",
       "    <tr>\n",
       "      <th>199</th>\n",
       "      <td>acho que vou comprar um vaper é isso que vou i...</td>\n",
       "      <td>0</td>\n",
       "    </tr>\n",
       "  </tbody>\n",
       "</table>\n",
       "<p>200 rows × 2 columns</p>\n",
       "</div>"
      ],
      "text/plain": [
       "                                                 Teste  Relevancia\n",
       "0    viciar en vaper  serio  nao to acreditando me ...           0\n",
       "1    to há meses com um vaper que não acaba to chocada           1\n",
       "2    em minha casinha fumando meu vaper e na paz do...           0\n",
       "3    @_biagrazyy ela usou um vaper e ainda me mostr...           1\n",
       "4    @irafaelatavares eu sábado caindo bebeda\\nespe...           0\n",
       "..                                                 ...         ...\n",
       "195                           e se eu comprar um vaper           0\n",
       "196  eu guardo o vaper tão bem que as vezes vou pro...           0\n",
       "197                   pora só queria meu vaper de novo           0\n",
       "198       @lunaisnice eu falo o vaper em si nunca usei           0\n",
       "199  acho que vou comprar um vaper é isso que vou i...           0\n",
       "\n",
       "[200 rows x 2 columns]"
      ]
     },
     "execution_count": 64,
     "metadata": {},
     "output_type": "execute_result"
    }
   ],
   "source": [
    "test['Teste'] = test['Teste'].str.replace('[!-.:?;]', '')\n",
    "test"
   ]
  },
  {
   "cell_type": "markdown",
   "metadata": {},
   "source": [
    "___\n",
    "## Classificador automático de sentimento\n"
   ]
  },
  {
   "cell_type": "markdown",
   "metadata": {},
   "source": [
    "Faça aqui uma descrição do seu produto e o que considerou como relevante ou não relevante na classificação dos tweets.\n",
    "\n",
    "Foram considerados relevantes os tweets que: \n",
    "    comparavam o produto com outros similarer;\n",
    "    mencionavem os motivos do usuaria gostar ou não do produto;\n",
    "    julgaram o produto."
   ]
  },
  {
   "cell_type": "markdown",
   "metadata": {},
   "source": [
    "___\n",
    "### Montando um Classificador Naive-Bayes\n",
    "\n",
    "Considerando apenas as mensagens da planilha Treinamento, ensine  seu classificador."
   ]
  },
  {
   "cell_type": "code",
   "execution_count": 49,
   "metadata": {},
   "outputs": [
    {
     "data": {
      "text/html": [
       "<div>\n",
       "<style scoped>\n",
       "    .dataframe tbody tr th:only-of-type {\n",
       "        vertical-align: middle;\n",
       "    }\n",
       "\n",
       "    .dataframe tbody tr th {\n",
       "        vertical-align: top;\n",
       "    }\n",
       "\n",
       "    .dataframe thead th {\n",
       "        text-align: right;\n",
       "    }\n",
       "</style>\n",
       "<table border=\"1\" class=\"dataframe\">\n",
       "  <thead>\n",
       "    <tr style=\"text-align: right;\">\n",
       "      <th></th>\n",
       "      <th>Treinamento</th>\n",
       "    </tr>\n",
       "  </thead>\n",
       "  <tbody>\n",
       "    <tr>\n",
       "      <th>12</th>\n",
       "      <td>@juliagab__ compra um pod vaper é horrível</td>\n",
       "    </tr>\n",
       "    <tr>\n",
       "      <th>14</th>\n",
       "      <td>não tá dando condições nem de comprar um vaper...</td>\n",
       "    </tr>\n",
       "    <tr>\n",
       "      <th>51</th>\n",
       "      <td>assistindo filme fumando vaper comendo brigade...</td>\n",
       "    </tr>\n",
       "    <tr>\n",
       "      <th>52</th>\n",
       "      <td>vaper n tem nada demais ms smp q eu to saindo ...</td>\n",
       "    </tr>\n",
       "    <tr>\n",
       "      <th>53</th>\n",
       "      <td>caralho deixei meu rim pra comprar o negócio d...</td>\n",
       "    </tr>\n",
       "  </tbody>\n",
       "</table>\n",
       "</div>"
      ],
      "text/plain": [
       "                                          Treinamento\n",
       "12         @juliagab__ compra um pod vaper é horrível\n",
       "14  não tá dando condições nem de comprar um vaper...\n",
       "51  assistindo filme fumando vaper comendo brigade...\n",
       "52  vaper n tem nada demais ms smp q eu to saindo ...\n",
       "53  caralho deixei meu rim pra comprar o negócio d..."
      ]
     },
     "execution_count": 49,
     "metadata": {},
     "output_type": "execute_result"
    }
   ],
   "source": [
    "train_relevante = train.loc[train['Relevancia']==1,['Treinamento']]\n",
    "train_relevante.head()"
   ]
  },
  {
   "cell_type": "code",
   "execution_count": 54,
   "metadata": {},
   "outputs": [
    {
     "data": {
      "text/html": [
       "<div>\n",
       "<style scoped>\n",
       "    .dataframe tbody tr th:only-of-type {\n",
       "        vertical-align: middle;\n",
       "    }\n",
       "\n",
       "    .dataframe tbody tr th {\n",
       "        vertical-align: top;\n",
       "    }\n",
       "\n",
       "    .dataframe thead th {\n",
       "        text-align: right;\n",
       "    }\n",
       "</style>\n",
       "<table border=\"1\" class=\"dataframe\">\n",
       "  <thead>\n",
       "    <tr style=\"text-align: right;\">\n",
       "      <th></th>\n",
       "      <th>Teste</th>\n",
       "    </tr>\n",
       "  </thead>\n",
       "  <tbody>\n",
       "    <tr>\n",
       "      <th>1</th>\n",
       "      <td>to há meses com um vaper que não acaba to chocada</td>\n",
       "    </tr>\n",
       "    <tr>\n",
       "      <th>3</th>\n",
       "      <td>@_biagrazyy ela usou um vaper e ainda me mostr...</td>\n",
       "    </tr>\n",
       "    <tr>\n",
       "      <th>9</th>\n",
       "      <td>o brother me deu um vaper de uva pq disse que ...</td>\n",
       "    </tr>\n",
       "    <tr>\n",
       "      <th>13</th>\n",
       "      <td>a resistência do vaper dura um mês a minha foi...</td>\n",
       "    </tr>\n",
       "    <tr>\n",
       "      <th>14</th>\n",
       "      <td>entrei na onda vaper eletrônico tchau cigas</td>\n",
       "    </tr>\n",
       "  </tbody>\n",
       "</table>\n",
       "</div>"
      ],
      "text/plain": [
       "                                                Teste\n",
       "1   to há meses com um vaper que não acaba to chocada\n",
       "3   @_biagrazyy ela usou um vaper e ainda me mostr...\n",
       "9   o brother me deu um vaper de uva pq disse que ...\n",
       "13  a resistência do vaper dura um mês a minha foi...\n",
       "14        entrei na onda vaper eletrônico tchau cigas"
      ]
     },
     "execution_count": 54,
     "metadata": {},
     "output_type": "execute_result"
    }
   ],
   "source": [
    "test_relevante = test.loc[test['Relevancia']==1,['Teste']]\n",
    "test_relevante.head()"
   ]
  },
  {
   "cell_type": "code",
   "execution_count": 62,
   "metadata": {},
   "outputs": [
    {
     "data": {
      "text/plain": [
       "1      [to, há, meses, com, um, vaper, que, não, acab...\n",
       "3      [@_biagrazyy, ela, usou, um, vaper, e, ainda, ...\n",
       "9      [o, brother, me, deu, um, vaper, de, uva, pq, ...\n",
       "13     [a, resistência, do, vaper, dura, um, mês, a, ...\n",
       "14     [entrei, na, onda, vaper, eletrônico, tchau, c...\n",
       "30     [eu, definitivamente, não, gosto, de, vaper, o...\n",
       "31     [queria, tanto, um, vaper, grande, comprei, e,...\n",
       "41     [só, com, o, vaper, já, gastei, 14900, esse, m...\n",
       "51     [é, impressão, minha, ou, vaper, é, muito, mai...\n",
       "58     [e, por, fim, me, acostumei, com, o, meu, vape...\n",
       "78                [manter, meu, vaper, é, caro, viu, af]\n",
       "85             [comprei, um, sabor, de, vaper, horrível]\n",
       "93     [gente, ontem, eu, usei, um, vaper, 10, eu, pu...\n",
       "96     [@phoriaboy, fumar, cigarro, é, estranho, não,...\n",
       "97     [comprei, um, vaper, p, parar, de, fumar, ciga...\n",
       "98     [eu, não, tô, indo, comprar, um, vaper, de, 60...\n",
       "102    [a, pior, aquisição, que, eu, fiz, foi, desse,...\n",
       "106    [ce, ta, doidoooo, valeu, pela, chuva, deus, 🙏...\n",
       "110    [hmmm, vaper, de, murango, https//tco/pqd4wprkep]\n",
       "112    [levei, meu, vaper, pra, arrumar, uma, coisa, ...\n",
       "115                [@mattheus079, compre, um, vaper, po]\n",
       "116               [detesto, sair, e, esquecer, o, vaper]\n",
       "117    [comemorando, semana, com, um, bom, vinho, vap...\n",
       "118    [@i_am_rayel, @uvazyy, se, fosse, cigarros, ou...\n",
       "119    [gente, ontem, eu, usei, um, vaper, só, pra, s...\n",
       "120    [infelizmente, terei, que, desmarcar, serão, 7...\n",
       "123    [hoje, entrei, no, uber, o, motorista, já, foi...\n",
       "124    [minha, essência, do, vaper, acabou, e, agr, n...\n",
       "125    [a, resistência, do, meu, vaper, queimou, pqp,...\n",
       "126    [eu, vejo, o, povo, fumando, pod, igual, vaper...\n",
       "127     [comprei, o, vaper, q, eu, queria, tô, felizona]\n",
       "136    [eu, tava, chorando, na, call, do, discord, pq...\n",
       "138    [minha, sogra, odiava, vaper, metia, o, pau, e...\n",
       "139    [vaper, é, muito, coisa, de, burguês, arrombad...\n",
       "142                               [queria, fumar, vaper]\n",
       "147           [trem, mais, besta, esse, trem, de, vaper]\n",
       "148    [odeio, emprestar, meu, vaper, mas, agora, ten...\n",
       "149    [botei, a, porra, do, vaper, sem, querer, em, ...\n",
       "153    [cheguei, no, nível, de, usar, um, vaper, de, ...\n",
       "156    [@llarbac_, experimenta, pegar, vaper, o, skys...\n",
       "172    [eu, com, um, pod, no, quarto, minha, mãe, já,...\n",
       "176    [mt, engraçado, uns, marmanjo, defendendo, o, ...\n",
       "181    [ter, vaper, sai, bem, mais, caro, que, fumar,...\n",
       "185    [ter, q, comprar, um, vaper, mesmo, pagar, 250...\n",
       "188    [eu, tentando, entender, esse, mundo, de, vape...\n",
       "Name: Teste, dtype: object"
      ]
     },
     "execution_count": 62,
     "metadata": {},
     "output_type": "execute_result"
    }
   ],
   "source": [
    "test_relevante['Teste'].str.split()"
   ]
  },
  {
   "cell_type": "code",
   "execution_count": 63,
   "metadata": {},
   "outputs": [
    {
     "data": {
      "text/plain": [
       "12     [@juliagab__, compra, um, pod, vaper, é, horrí...\n",
       "14     [não, tá, dando, condições, nem, de, comprar, ...\n",
       "51     [assistindo, filme, fumando, vaper, comendo, b...\n",
       "52     [vaper, n, tem, nada, demais, ms, smp, q, eu, ...\n",
       "53     [caralho, deixei, meu, rim, pra, comprar, o, n...\n",
       "62     [comprei, um, vaper, pra, parar, de, fumar, ag...\n",
       "65     [gente, o, povo, compra, vaper, semi, novo/usa...\n",
       "68            [n, tem, nada, nessa, porra, desse, vaper]\n",
       "74                                  [vaper, é, tão, bom]\n",
       "78     [assistindo, um, pod, citando, os, perigos, do...\n",
       "82     [todo, mês, e, no, mínimo, 200, reais, de, jui...\n",
       "88     [o, vaper, ta, desde, a, 2h, da, manhã, na, to...\n",
       "92     [o, jovem, meu, deus, eu, acredito, tanto, na,...\n",
       "95     [expectativa, comprar, o, vaper, pra, parar, f...\n",
       "96     [eu, me, tornei, a, pessoa, q, eu, mais, criti...\n",
       "98                          [vaper, é, brega, pacaralho]\n",
       "113    [@gioest, aparentemente, tb, mexe, com, alguma...\n",
       "124    [melhor, coisa, que, eu, fiz, foi, pegar, esse...\n",
       "132    [meu, vaper, foi, igual, água, os, mlk, sao, c...\n",
       "158    [aula, das, piores, coisas, da, vida, fumar, v...\n",
       "165    [pior, ainda, os, q, usam, vaper, https//tco/u...\n",
       "168    [caraca, eu, não, acredito, que, gastamos, 920...\n",
       "173    [queria, comprar, um, vaper, mas, que, coisinh...\n",
       "186    [eu, acho, q, tô, 2, semanas, sem, o, usar, o,...\n",
       "195    [a, melhor, invenção, da, idade, contemporânea...\n",
       "202    [porra, de, vaper, mlk, vai, fumar, uma, maconha]\n",
       "214    [queria, um, vaper, mas, se, minha, mãe, me, v...\n",
       "222    [quando, eu, engravidar, eu, vou, parar, de, f...\n",
       "241     [vaper, da, flores, no, pulmão, eu, vi, na, net]\n",
       "253                [vaper, é, um, vício, muito, caro, 🥲]\n",
       "258    [todo, fds, uma, resistência, nova, pra, esse,...\n",
       "266    [@lummeirelles, ele, fumava, vaper, agr, troco...\n",
       "271                     [usa, vaper, =, péssima, pessoa]\n",
       "277    [vendo, valor, de, vaper, a, descartável, é, c...\n",
       "280    [bglh, de, vaper, é, ridículo, kkkkk, se, for,...\n",
       "298    [n, sei, se, mais, p, frente, eu, compro, um, ...\n",
       "Name: Treinamento, dtype: object"
      ]
     },
     "execution_count": 63,
     "metadata": {},
     "output_type": "execute_result"
    }
   ],
   "source": [
    "train_relevante['Treinamento'].str.split()"
   ]
  },
  {
   "cell_type": "markdown",
   "metadata": {},
   "source": [
    "___\n",
    "### Verificando a performance do Classificador\n",
    "\n",
    "Agora você deve testar o seu classificador com a base de Testes."
   ]
  },
  {
   "cell_type": "code",
   "execution_count": null,
   "metadata": {},
   "outputs": [],
   "source": []
  },
  {
   "cell_type": "code",
   "execution_count": null,
   "metadata": {},
   "outputs": [],
   "source": []
  },
  {
   "cell_type": "code",
   "execution_count": null,
   "metadata": {},
   "outputs": [],
   "source": []
  },
  {
   "cell_type": "markdown",
   "metadata": {},
   "source": [
    "___\n",
    "### Concluindo"
   ]
  },
  {
   "cell_type": "code",
   "execution_count": null,
   "metadata": {},
   "outputs": [],
   "source": []
  },
  {
   "cell_type": "code",
   "execution_count": null,
   "metadata": {},
   "outputs": [],
   "source": []
  },
  {
   "cell_type": "code",
   "execution_count": null,
   "metadata": {},
   "outputs": [],
   "source": []
  },
  {
   "cell_type": "markdown",
   "metadata": {},
   "source": [
    "___\n",
    "### Qualidade do Classificador a partir de novas separações dos tweets entre Treinamento e Teste\n",
    "\n",
    "Caso for fazer esse item do Projeto"
   ]
  },
  {
   "cell_type": "code",
   "execution_count": null,
   "metadata": {},
   "outputs": [],
   "source": []
  },
  {
   "cell_type": "code",
   "execution_count": null,
   "metadata": {},
   "outputs": [],
   "source": []
  },
  {
   "cell_type": "code",
   "execution_count": null,
   "metadata": {},
   "outputs": [],
   "source": []
  },
  {
   "cell_type": "markdown",
   "metadata": {},
   "source": [
    "___\n",
    "## Aperfeiçoamento:\n",
    "\n",
    "Trabalhos que conseguirem pelo menos conceito B vão evoluir em conceito dependendo da quantidade de itens avançados:\n",
    "\n",
    "* IMPLEMENTOU outras limpezas e transformações que não afetem a qualidade da informação contida nos tweets. Ex: stemming, lemmatization, stopwords\n",
    "* CORRIGIU separação de espaços entre palavras e emojis ou entre emojis e emojis\n",
    "* CRIOU categorias intermediárias de relevância baseadas na probabilidade: ex.: muito relevante, relevante, neutro, irrelevante, muito irrelevante. Pelo menos quatro categorias, com adição de mais tweets na base, conforme enunciado. (OBRIGATÓRIO PARA TRIOS, sem contar como item avançado)\n",
    "* EXPLICOU porquê não pode usar o próprio classificador para gerar mais amostras de treinamento\n",
    "* PROPÔS diferentes cenários para Naïve Bayes fora do contexto do projeto\n",
    "* SUGERIU e EXPLICOU melhorias reais com indicações concretas de como implementar (indicar como fazer e indicar material de pesquisa)\n",
    "* FEZ o item 6. Qualidade do Classificador a partir de novas separações dos tweets entre Treinamento e Teste descrito no enunciado do projeto (OBRIGATÓRIO para conceitos A ou A+)"
   ]
  },
  {
   "cell_type": "markdown",
   "metadata": {},
   "source": [
    "___\n",
    "## Referências"
   ]
  },
  {
   "cell_type": "markdown",
   "metadata": {},
   "source": [
    "[Naive Bayes and Text Classification](https://arxiv.org/pdf/1410.5329.pdf)  **Mais completo**\n",
    "\n",
    "[A practical explanation of a Naive Bayes Classifier](https://monkeylearn.com/blog/practical-explanation-naive-bayes-classifier/) **Mais simples**"
   ]
  },
  {
   "cell_type": "code",
   "execution_count": null,
   "metadata": {},
   "outputs": [],
   "source": []
  }
 ],
 "metadata": {
  "kernelspec": {
   "display_name": "Python 3",
   "language": "python",
   "name": "python3"
  },
  "language_info": {
   "codemirror_mode": {
    "name": "ipython",
    "version": 3
   },
   "file_extension": ".py",
   "mimetype": "text/x-python",
   "name": "python",
   "nbconvert_exporter": "python",
   "pygments_lexer": "ipython3",
   "version": "3.8.5"
  }
 },
 "nbformat": 4,
 "nbformat_minor": 4
}
