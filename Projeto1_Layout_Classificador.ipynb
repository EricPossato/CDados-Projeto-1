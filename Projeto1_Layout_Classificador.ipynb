{
 "cells": [
  {
   "cell_type": "markdown",
   "metadata": {},
   "source": [
    "# Projeto 1 - Ciência dos Dados"
   ]
  },
  {
   "cell_type": "markdown",
   "metadata": {},
   "source": [
    "Nome: Eric Possato\n",
    "\n",
    "Nome: Gabriel Nichols"
   ]
  },
  {
   "cell_type": "markdown",
   "metadata": {},
   "source": [
    "Atenção: Serão permitidos grupos de três pessoas, mas com uma rubrica mais exigente. Grupos deste tamanho precisarão fazer um questionário de avaliação de trabalho em equipe"
   ]
  },
  {
   "cell_type": "markdown",
   "metadata": {},
   "source": [
    "___\n",
    "Carregando algumas bibliotecas:"
   ]
  },
  {
   "cell_type": "code",
   "execution_count": 1,
   "metadata": {},
   "outputs": [],
   "source": [
    "%matplotlib inline\n",
    "import pandas as pd\n",
    "import matplotlib.pyplot as plt\n",
    "import numpy as np\n",
    "import os\n",
    "import re"
   ]
  },
  {
   "cell_type": "code",
   "execution_count": 2,
   "metadata": {
    "scrolled": false
   },
   "outputs": [
    {
     "name": "stdout",
     "output_type": "stream",
     "text": [
      "Esperamos trabalhar no diretório\n",
      "C:\\Users\\erica\\Desktop\\Insper\\Sem 2\\Ciência de Dados\\CDados-Projeto-1\n"
     ]
    }
   ],
   "source": [
    "print('Esperamos trabalhar no diretório')\n",
    "print(os.getcwd())"
   ]
  },
  {
   "cell_type": "markdown",
   "metadata": {},
   "source": [
    "- Fazer mais uma stringassa com as irrevelantes\n",
    "- Transformar string em series\n",
    "- Value counts nessas series\n",
    "- Soma strings para uma stringassazassa\n",
    "- Transformar em uma MEGASERIES"
   ]
  },
  {
   "cell_type": "markdown",
   "metadata": {},
   "source": [
    "- Calcular probabilidade de aparecer palavras relevantes len(series)/len(outraseries)\n",
    "- Calcular probabilidade de uma palavra estar dentro de um conjunto\n",
    "- Aplicar suavização de laplace\n",
    "- Aplicar função nos tweets\n",
    "- Aplicar função na base de testes\n",
    "- Observar porcentagem de acertos na classificação"
   ]
  },
  {
   "cell_type": "markdown",
   "metadata": {},
   "source": [
    "Carregando a base de dados com os tweets classificados como relevantes e não relevantes:"
   ]
  },
  {
   "cell_type": "code",
   "execution_count": 3,
   "metadata": {},
   "outputs": [],
   "source": [
    "filename = 'vaper.xlsx'"
   ]
  },
  {
   "cell_type": "code",
   "execution_count": null,
   "metadata": {},
   "outputs": [],
   "source": []
  },
  {
   "cell_type": "code",
   "execution_count": 4,
   "metadata": {},
   "outputs": [
    {
     "data": {
      "text/html": [
       "<div>\n",
       "<style scoped>\n",
       "    .dataframe tbody tr th:only-of-type {\n",
       "        vertical-align: middle;\n",
       "    }\n",
       "\n",
       "    .dataframe tbody tr th {\n",
       "        vertical-align: top;\n",
       "    }\n",
       "\n",
       "    .dataframe thead th {\n",
       "        text-align: right;\n",
       "    }\n",
       "</style>\n",
       "<table border=\"1\" class=\"dataframe\">\n",
       "  <thead>\n",
       "    <tr style=\"text-align: right;\">\n",
       "      <th></th>\n",
       "      <th>Treinamento</th>\n",
       "      <th>Relevancia</th>\n",
       "    </tr>\n",
       "  </thead>\n",
       "  <tbody>\n",
       "    <tr>\n",
       "      <th>0</th>\n",
       "      <td>eu dando teto preto depois de 01 coisada no va...</td>\n",
       "      <td>0</td>\n",
       "    </tr>\n",
       "    <tr>\n",
       "      <th>1</th>\n",
       "      <td>minha vó fumando vaper kkkkkkkkkkkkkkkkkkkk</td>\n",
       "      <td>0</td>\n",
       "    </tr>\n",
       "    <tr>\n",
       "      <th>2</th>\n",
       "      <td>e eu que ganhei um vaper do meu patrão kkkkkk</td>\n",
       "      <td>0</td>\n",
       "    </tr>\n",
       "    <tr>\n",
       "      <th>3</th>\n",
       "      <td>lembrei agora que fiquei bebada segunda e diss...</td>\n",
       "      <td>0</td>\n",
       "    </tr>\n",
       "    <tr>\n",
       "      <th>4</th>\n",
       "      <td>aí q vontade de comprar um vaper novo</td>\n",
       "      <td>0</td>\n",
       "    </tr>\n",
       "    <tr>\n",
       "      <th>5</th>\n",
       "      <td>aparentemente eu tentei comprar um vaper bebad...</td>\n",
       "      <td>0</td>\n",
       "    </tr>\n",
       "    <tr>\n",
       "      <th>6</th>\n",
       "      <td>pensando em comprar um vaper vei</td>\n",
       "      <td>0</td>\n",
       "    </tr>\n",
       "    <tr>\n",
       "      <th>7</th>\n",
       "      <td>@negotalles depois que meu amigo tudo começou ...</td>\n",
       "      <td>0</td>\n",
       "    </tr>\n",
       "    <tr>\n",
       "      <th>8</th>\n",
       "      <td>minha proxima aquisição vai ser um vaper 🤓</td>\n",
       "      <td>0</td>\n",
       "    </tr>\n",
       "    <tr>\n",
       "      <th>9</th>\n",
       "      <td>onde eu compro vaper aqui no rio de janeiro, q...</td>\n",
       "      <td>0</td>\n",
       "    </tr>\n",
       "  </tbody>\n",
       "</table>\n",
       "</div>"
      ],
      "text/plain": [
       "                                         Treinamento  Relevancia\n",
       "0  eu dando teto preto depois de 01 coisada no va...           0\n",
       "1        minha vó fumando vaper kkkkkkkkkkkkkkkkkkkk           0\n",
       "2      e eu que ganhei um vaper do meu patrão kkkkkk           0\n",
       "3  lembrei agora que fiquei bebada segunda e diss...           0\n",
       "4              aí q vontade de comprar um vaper novo           0\n",
       "5  aparentemente eu tentei comprar um vaper bebad...           0\n",
       "6                   pensando em comprar um vaper vei           0\n",
       "7  @negotalles depois que meu amigo tudo começou ...           0\n",
       "8         minha proxima aquisição vai ser um vaper 🤓           0\n",
       "9  onde eu compro vaper aqui no rio de janeiro, q...           0"
      ]
     },
     "execution_count": 4,
     "metadata": {},
     "output_type": "execute_result"
    }
   ],
   "source": [
    "train = pd.read_excel(filename)\n",
    "train.head(10)"
   ]
  },
  {
   "cell_type": "code",
   "execution_count": 5,
   "metadata": {},
   "outputs": [
    {
     "data": {
      "text/html": [
       "<div>\n",
       "<style scoped>\n",
       "    .dataframe tbody tr th:only-of-type {\n",
       "        vertical-align: middle;\n",
       "    }\n",
       "\n",
       "    .dataframe tbody tr th {\n",
       "        vertical-align: top;\n",
       "    }\n",
       "\n",
       "    .dataframe thead th {\n",
       "        text-align: right;\n",
       "    }\n",
       "</style>\n",
       "<table border=\"1\" class=\"dataframe\">\n",
       "  <thead>\n",
       "    <tr style=\"text-align: right;\">\n",
       "      <th></th>\n",
       "      <th>Treinamento</th>\n",
       "      <th>Relevancia</th>\n",
       "    </tr>\n",
       "  </thead>\n",
       "  <tbody>\n",
       "    <tr>\n",
       "      <th>0</th>\n",
       "      <td>eu dando teto preto depois de 01 coisada no va...</td>\n",
       "      <td>0</td>\n",
       "    </tr>\n",
       "    <tr>\n",
       "      <th>1</th>\n",
       "      <td>minha vó fumando vaper kkkkkkkkkkkkkkkkkkkk</td>\n",
       "      <td>0</td>\n",
       "    </tr>\n",
       "    <tr>\n",
       "      <th>2</th>\n",
       "      <td>e eu que ganhei um vaper do meu patrão kkkkkk</td>\n",
       "      <td>0</td>\n",
       "    </tr>\n",
       "    <tr>\n",
       "      <th>3</th>\n",
       "      <td>lembrei agora que fiquei bebada segunda e diss...</td>\n",
       "      <td>0</td>\n",
       "    </tr>\n",
       "    <tr>\n",
       "      <th>4</th>\n",
       "      <td>aí q vontade de comprar um vaper novo</td>\n",
       "      <td>0</td>\n",
       "    </tr>\n",
       "    <tr>\n",
       "      <th>5</th>\n",
       "      <td>aparentemente eu tentei comprar um vaper bebad...</td>\n",
       "      <td>0</td>\n",
       "    </tr>\n",
       "    <tr>\n",
       "      <th>6</th>\n",
       "      <td>pensando em comprar um vaper vei</td>\n",
       "      <td>0</td>\n",
       "    </tr>\n",
       "    <tr>\n",
       "      <th>7</th>\n",
       "      <td>depois que meu amigo tudo começou fumar vaper...</td>\n",
       "      <td>0</td>\n",
       "    </tr>\n",
       "    <tr>\n",
       "      <th>8</th>\n",
       "      <td>minha proxima aquisição vai ser um vaper 🤓</td>\n",
       "      <td>0</td>\n",
       "    </tr>\n",
       "    <tr>\n",
       "      <th>9</th>\n",
       "      <td>onde eu compro vaper aqui no rio de janeiro qu...</td>\n",
       "      <td>0</td>\n",
       "    </tr>\n",
       "  </tbody>\n",
       "</table>\n",
       "</div>"
      ],
      "text/plain": [
       "                                         Treinamento  Relevancia\n",
       "0  eu dando teto preto depois de 01 coisada no va...           0\n",
       "1        minha vó fumando vaper kkkkkkkkkkkkkkkkkkkk           0\n",
       "2      e eu que ganhei um vaper do meu patrão kkkkkk           0\n",
       "3  lembrei agora que fiquei bebada segunda e diss...           0\n",
       "4              aí q vontade de comprar um vaper novo           0\n",
       "5  aparentemente eu tentei comprar um vaper bebad...           0\n",
       "6                   pensando em comprar um vaper vei           0\n",
       "7   depois que meu amigo tudo começou fumar vaper...           0\n",
       "8         minha proxima aquisição vai ser um vaper 🤓           0\n",
       "9  onde eu compro vaper aqui no rio de janeiro qu...           0"
      ]
     },
     "execution_count": 5,
     "metadata": {},
     "output_type": "execute_result"
    }
   ],
   "source": [
    "train['Treinamento'] = train['Treinamento'].apply(lambda x: re.split('https://.*', str(x))[0])\n",
    "pattern1 = r'(http://[^\"\\s]+)|(@\\w+)'\n",
    "pattern2 = r'(?<=^|(?<=[^a-zA-Z0-9-_.]))@([A-Za-z]+[A-Za-z0-9]+)'\n",
    "train['Treinamento'] = train['Treinamento'].str.replace(pattern1, \"\")\n",
    "train['Treinamento'] = train['Treinamento'].str.replace(pattern2, \"\")\n",
    "train['Treinamento'] = train['Treinamento'].str.replace('[!-.:?;,\\/]', '')\n",
    "train.head(10)"
   ]
  },
  {
   "cell_type": "code",
   "execution_count": 6,
   "metadata": {},
   "outputs": [
    {
     "data": {
      "text/html": [
       "<div>\n",
       "<style scoped>\n",
       "    .dataframe tbody tr th:only-of-type {\n",
       "        vertical-align: middle;\n",
       "    }\n",
       "\n",
       "    .dataframe tbody tr th {\n",
       "        vertical-align: top;\n",
       "    }\n",
       "\n",
       "    .dataframe thead th {\n",
       "        text-align: right;\n",
       "    }\n",
       "</style>\n",
       "<table border=\"1\" class=\"dataframe\">\n",
       "  <thead>\n",
       "    <tr style=\"text-align: right;\">\n",
       "      <th></th>\n",
       "      <th>Teste</th>\n",
       "      <th>Relevancia</th>\n",
       "    </tr>\n",
       "  </thead>\n",
       "  <tbody>\n",
       "    <tr>\n",
       "      <th>0</th>\n",
       "      <td>viciar en vaper ? serio ? nao to acreditando, ...</td>\n",
       "      <td>0</td>\n",
       "    </tr>\n",
       "    <tr>\n",
       "      <th>1</th>\n",
       "      <td>to há meses com um vaper que não acaba!!!!! to...</td>\n",
       "      <td>1</td>\n",
       "    </tr>\n",
       "    <tr>\n",
       "      <th>2</th>\n",
       "      <td>em minha casinha, fumando meu vaper e na paz d...</td>\n",
       "      <td>0</td>\n",
       "    </tr>\n",
       "    <tr>\n",
       "      <th>3</th>\n",
       "      <td>@_biagrazyy ela usou um vaper e ainda me mostr...</td>\n",
       "      <td>1</td>\n",
       "    </tr>\n",
       "    <tr>\n",
       "      <th>4</th>\n",
       "      <td>@irafaelatavares eu sábado caindo bebeda.\\nesp...</td>\n",
       "      <td>0</td>\n",
       "    </tr>\n",
       "  </tbody>\n",
       "</table>\n",
       "</div>"
      ],
      "text/plain": [
       "                                               Teste  Relevancia\n",
       "0  viciar en vaper ? serio ? nao to acreditando, ...           0\n",
       "1  to há meses com um vaper que não acaba!!!!! to...           1\n",
       "2  em minha casinha, fumando meu vaper e na paz d...           0\n",
       "3  @_biagrazyy ela usou um vaper e ainda me mostr...           1\n",
       "4  @irafaelatavares eu sábado caindo bebeda.\\nesp...           0"
      ]
     },
     "execution_count": 6,
     "metadata": {},
     "output_type": "execute_result"
    }
   ],
   "source": [
    "test = pd.read_excel(filename, sheet_name = 'Teste')\n",
    "test.head(5)"
   ]
  },
  {
   "cell_type": "code",
   "execution_count": 7,
   "metadata": {},
   "outputs": [
    {
     "data": {
      "text/html": [
       "<div>\n",
       "<style scoped>\n",
       "    .dataframe tbody tr th:only-of-type {\n",
       "        vertical-align: middle;\n",
       "    }\n",
       "\n",
       "    .dataframe tbody tr th {\n",
       "        vertical-align: top;\n",
       "    }\n",
       "\n",
       "    .dataframe thead th {\n",
       "        text-align: right;\n",
       "    }\n",
       "</style>\n",
       "<table border=\"1\" class=\"dataframe\">\n",
       "  <thead>\n",
       "    <tr style=\"text-align: right;\">\n",
       "      <th></th>\n",
       "      <th>Teste</th>\n",
       "      <th>Relevancia</th>\n",
       "    </tr>\n",
       "  </thead>\n",
       "  <tbody>\n",
       "    <tr>\n",
       "      <th>0</th>\n",
       "      <td>viciar en vaper  serio  nao to acreditando me ...</td>\n",
       "      <td>0</td>\n",
       "    </tr>\n",
       "    <tr>\n",
       "      <th>1</th>\n",
       "      <td>to há meses com um vaper que não acaba to chocada</td>\n",
       "      <td>1</td>\n",
       "    </tr>\n",
       "    <tr>\n",
       "      <th>2</th>\n",
       "      <td>em minha casinha fumando meu vaper e na paz do...</td>\n",
       "      <td>0</td>\n",
       "    </tr>\n",
       "    <tr>\n",
       "      <th>3</th>\n",
       "      <td>ela usou um vaper e ainda me mostrou o vídeo ...</td>\n",
       "      <td>1</td>\n",
       "    </tr>\n",
       "    <tr>\n",
       "      <th>4</th>\n",
       "      <td>eu sábado caindo bebeda\\nespecialidade quebra...</td>\n",
       "      <td>0</td>\n",
       "    </tr>\n",
       "    <tr>\n",
       "      <th>...</th>\n",
       "      <td>...</td>\n",
       "      <td>...</td>\n",
       "    </tr>\n",
       "    <tr>\n",
       "      <th>195</th>\n",
       "      <td>e se eu comprar um vaper</td>\n",
       "      <td>0</td>\n",
       "    </tr>\n",
       "    <tr>\n",
       "      <th>196</th>\n",
       "      <td>eu guardo o vaper tão bem que as vezes vou pro...</td>\n",
       "      <td>0</td>\n",
       "    </tr>\n",
       "    <tr>\n",
       "      <th>197</th>\n",
       "      <td>pora só queria meu vaper de novo</td>\n",
       "      <td>0</td>\n",
       "    </tr>\n",
       "    <tr>\n",
       "      <th>198</th>\n",
       "      <td>eu falo o vaper em si nunca usei</td>\n",
       "      <td>0</td>\n",
       "    </tr>\n",
       "    <tr>\n",
       "      <th>199</th>\n",
       "      <td>acho que vou comprar um vaper é isso que vou i...</td>\n",
       "      <td>0</td>\n",
       "    </tr>\n",
       "  </tbody>\n",
       "</table>\n",
       "<p>200 rows × 2 columns</p>\n",
       "</div>"
      ],
      "text/plain": [
       "                                                 Teste  Relevancia\n",
       "0    viciar en vaper  serio  nao to acreditando me ...           0\n",
       "1    to há meses com um vaper que não acaba to chocada           1\n",
       "2    em minha casinha fumando meu vaper e na paz do...           0\n",
       "3     ela usou um vaper e ainda me mostrou o vídeo ...           1\n",
       "4     eu sábado caindo bebeda\\nespecialidade quebra...           0\n",
       "..                                                 ...         ...\n",
       "195                           e se eu comprar um vaper           0\n",
       "196  eu guardo o vaper tão bem que as vezes vou pro...           0\n",
       "197                   pora só queria meu vaper de novo           0\n",
       "198                   eu falo o vaper em si nunca usei           0\n",
       "199  acho que vou comprar um vaper é isso que vou i...           0\n",
       "\n",
       "[200 rows x 2 columns]"
      ]
     },
     "execution_count": 7,
     "metadata": {},
     "output_type": "execute_result"
    }
   ],
   "source": [
    "test['Teste'] = test['Teste'].apply(lambda x: re.split('https://.*', str(x))[0])\n",
    "pattern1 = r'(http://[^\"\\s]+)|(@\\w+)'\n",
    "pattern2 = r'(?<=^|(?<=[^a-zA-Z0-9-_.]))@([A-Za-z]+[A-Za-z0-9]+)'\n",
    "test['Teste'] = test['Teste'].str.replace(pattern1, \"\")\n",
    "test['Teste'] = test['Teste'].str.replace(pattern2, \"\")\n",
    "test['Teste'] = test['Teste'].str.replace('[!-.:?;,\\/]', '')\n",
    "\n",
    "test"
   ]
  },
  {
   "cell_type": "markdown",
   "metadata": {},
   "source": [
    "___\n",
    "## Classificador automático de sentimento\n"
   ]
  },
  {
   "cell_type": "markdown",
   "metadata": {},
   "source": [
    "Faça aqui uma descrição do seu produto e o que considerou como relevante ou não relevante na classificação dos tweets.\n",
    "\n",
    "Foram considerados relevantes os tweets que: \n",
    "    comparavam o produto com outros similarer;\n",
    "    mencionavem os motivos do usuaria gostar ou não do produto;\n",
    "    julgaram o produto."
   ]
  },
  {
   "cell_type": "markdown",
   "metadata": {},
   "source": [
    "___\n",
    "### Montando um Classificador Naive-Bayes\n",
    "\n",
    "Considerando apenas as mensagens da planilha Treinamento, ensine  seu classificador."
   ]
  },
  {
   "cell_type": "code",
   "execution_count": 8,
   "metadata": {},
   "outputs": [
    {
     "data": {
      "text/html": [
       "<div>\n",
       "<style scoped>\n",
       "    .dataframe tbody tr th:only-of-type {\n",
       "        vertical-align: middle;\n",
       "    }\n",
       "\n",
       "    .dataframe tbody tr th {\n",
       "        vertical-align: top;\n",
       "    }\n",
       "\n",
       "    .dataframe thead th {\n",
       "        text-align: right;\n",
       "    }\n",
       "</style>\n",
       "<table border=\"1\" class=\"dataframe\">\n",
       "  <thead>\n",
       "    <tr style=\"text-align: right;\">\n",
       "      <th></th>\n",
       "      <th>Treinamento</th>\n",
       "    </tr>\n",
       "  </thead>\n",
       "  <tbody>\n",
       "    <tr>\n",
       "      <th>12</th>\n",
       "      <td>compra um pod vaper é horrível</td>\n",
       "    </tr>\n",
       "    <tr>\n",
       "      <th>14</th>\n",
       "      <td>não tá dando condições nem de comprar um vaper...</td>\n",
       "    </tr>\n",
       "    <tr>\n",
       "      <th>51</th>\n",
       "      <td>assistindo filme fumando vaper comendo brigade...</td>\n",
       "    </tr>\n",
       "    <tr>\n",
       "      <th>52</th>\n",
       "      <td>vaper n tem nada demais ms smp q eu to saindo ...</td>\n",
       "    </tr>\n",
       "    <tr>\n",
       "      <th>53</th>\n",
       "      <td>caralho deixei meu rim pra comprar o negócio d...</td>\n",
       "    </tr>\n",
       "  </tbody>\n",
       "</table>\n",
       "</div>"
      ],
      "text/plain": [
       "                                          Treinamento\n",
       "12                     compra um pod vaper é horrível\n",
       "14  não tá dando condições nem de comprar um vaper...\n",
       "51  assistindo filme fumando vaper comendo brigade...\n",
       "52  vaper n tem nada demais ms smp q eu to saindo ...\n",
       "53  caralho deixei meu rim pra comprar o negócio d..."
      ]
     },
     "execution_count": 8,
     "metadata": {},
     "output_type": "execute_result"
    }
   ],
   "source": [
    "train_relevante = train.loc[train['Relevancia']==1,['Treinamento']]\n",
    "\n",
    "train_relevante.head()"
   ]
  },
  {
   "cell_type": "code",
   "execution_count": 9,
   "metadata": {},
   "outputs": [],
   "source": [
    "train_irrelevante = train.loc[train['Relevancia']==0,['Treinamento']]"
   ]
  },
  {
   "cell_type": "code",
   "execution_count": 10,
   "metadata": {},
   "outputs": [],
   "source": [
    "def prepara_series(frame):\n",
    "    lista = frame.tolist()\n",
    "    string = string_relevante = ','.join(lista)\n",
    "    string = string.replace('\\n', ' ')\n",
    "    string = string.replace(',', ' ')\n",
    "    string = string.split()\n",
    "    series = pd.Series(string)\n",
    "    return series\n"
   ]
  },
  {
   "cell_type": "code",
   "execution_count": 11,
   "metadata": {},
   "outputs": [],
   "source": [
    "#criando series com palavras\n",
    "series_relevante = prepara_series(train_relevante['Treinamento'])\n",
    "series_irrelevante = prepara_series(train_irrelevante['Treinamento'])\n",
    "series_total = prepara_series(train['Treinamento'])"
   ]
  },
  {
   "cell_type": "code",
   "execution_count": 14,
   "metadata": {},
   "outputs": [],
   "source": [
    "#tabelas de frequencia relativa de cada palavra\n",
    "tabela_relevante_relativa = series_relevante.value_counts(True)\n",
    "tabela_irrelevante_relativa = series_irrelevante.value_counts(True)\n",
    "tabela_total_relativa = series_total.value_counts(True)"
   ]
  },
  {
   "cell_type": "code",
   "execution_count": 25,
   "metadata": {},
   "outputs": [],
   "source": [
    "#probabilidades de palavra ser relevante\n",
    "prob_relevante = len(series_relevante)/len(series_total)\n",
    "prob_irrelevante = len(series_irrelevante)/len(series_total)\n",
    "\n",
    "palavras_sem_repeticao = []\n",
    "for palavra in series_total:\n",
    "    if palavra not in palavras_sem_repeticao:\n",
    "        palavras_sem_repeticao.append(palavra)"
   ]
  },
  {
   "cell_type": "code",
   "execution_count": 89,
   "metadata": {},
   "outputs": [],
   "source": [
    "def prob_palavra_em_conjunto(palavra):\n",
    "    if palavra in tabela_relevante_relativa:\n",
    "        prob_palavra_relevante = tabela_relevante_relativa[palavra]\n",
    "    else:\n",
    "        prob_palavra_relevante = 0\n",
    "    if palavra in tabela_irrelevante_relativa:\n",
    "        prob_palavra_irrelevante = tabela_irrelevante_relativa[palavra]\n",
    "    else:\n",
    "        prob_palavra_irrelevante = 0\n",
    "           \n",
    "    return [prob_palavra_relevante,prob_palavra_irrelevante]\n",
    "def classifica_tweet(frase):\n",
    "    frase = frase.split()\n",
    "    prob_frase_relevante = 1\n",
    "    prob_frase_irrelevante = 1\n",
    "    \n",
    "    \n",
    "\n",
    "    for palavra in frase:\n",
    "        prob_relevante = prob_palavra_em_conjunto(palavra)[0]\n",
    "        prob_irrelevante = prob_palavra_em_conjunto(palavra)[1]\n",
    "    \n",
    "        relevante_com_laplace = (prob_relevante + 1)/(len(series_relevante)+len(palavras_sem_repeticao))\n",
    "        irrelevante_com_laplace = (prob_irrelevante + 1)/(len(series_irrelevante)+len(palavras_sem_repeticao))\n",
    "        \n",
    "        \n",
    "        prob_frase_relevante *= relevante_com_laplace\n",
    "        prob_frase_irrelevante *= irrelevante_com_laplace\n",
    "    \n",
    "    if prob_frase_relevante*prob_relevante > prob_frase_irrelevante*prob_irrelevante:\n",
    "        return 1\n",
    "    else:\n",
    "        return 0"
   ]
  },
  {
   "cell_type": "code",
   "execution_count": 91,
   "metadata": {},
   "outputs": [
    {
     "name": "stdout",
     "output_type": "stream",
     "text": [
      "0\n"
     ]
    }
   ],
   "source": []
  },
  {
   "cell_type": "markdown",
   "metadata": {},
   "source": [
    "___\n",
    "### Verificando a performance do Classificador\n",
    "\n",
    "Agora você deve testar o seu classificador com a base de Testes."
   ]
  },
  {
   "cell_type": "code",
   "execution_count": 95,
   "metadata": {},
   "outputs": [],
   "source": [
    "test['Classificado'] = test['Teste'].apply(classifica_tweet)"
   ]
  },
  {
   "cell_type": "code",
   "execution_count": 96,
   "metadata": {},
   "outputs": [
    {
     "data": {
      "text/html": [
       "<div>\n",
       "<style scoped>\n",
       "    .dataframe tbody tr th:only-of-type {\n",
       "        vertical-align: middle;\n",
       "    }\n",
       "\n",
       "    .dataframe tbody tr th {\n",
       "        vertical-align: top;\n",
       "    }\n",
       "\n",
       "    .dataframe thead th {\n",
       "        text-align: right;\n",
       "    }\n",
       "</style>\n",
       "<table border=\"1\" class=\"dataframe\">\n",
       "  <thead>\n",
       "    <tr style=\"text-align: right;\">\n",
       "      <th></th>\n",
       "      <th>Teste</th>\n",
       "      <th>Relevancia</th>\n",
       "      <th>Classificado</th>\n",
       "    </tr>\n",
       "  </thead>\n",
       "  <tbody>\n",
       "    <tr>\n",
       "      <th>0</th>\n",
       "      <td>viciar en vaper  serio  nao to acreditando me ...</td>\n",
       "      <td>0</td>\n",
       "      <td>0</td>\n",
       "    </tr>\n",
       "    <tr>\n",
       "      <th>1</th>\n",
       "      <td>to há meses com um vaper que não acaba to chocada</td>\n",
       "      <td>1</td>\n",
       "      <td>0</td>\n",
       "    </tr>\n",
       "    <tr>\n",
       "      <th>2</th>\n",
       "      <td>em minha casinha fumando meu vaper e na paz do...</td>\n",
       "      <td>0</td>\n",
       "      <td>0</td>\n",
       "    </tr>\n",
       "    <tr>\n",
       "      <th>3</th>\n",
       "      <td>ela usou um vaper e ainda me mostrou o vídeo ...</td>\n",
       "      <td>1</td>\n",
       "      <td>0</td>\n",
       "    </tr>\n",
       "    <tr>\n",
       "      <th>4</th>\n",
       "      <td>eu sábado caindo bebeda\\nespecialidade quebra...</td>\n",
       "      <td>0</td>\n",
       "      <td>1</td>\n",
       "    </tr>\n",
       "    <tr>\n",
       "      <th>...</th>\n",
       "      <td>...</td>\n",
       "      <td>...</td>\n",
       "      <td>...</td>\n",
       "    </tr>\n",
       "    <tr>\n",
       "      <th>195</th>\n",
       "      <td>e se eu comprar um vaper</td>\n",
       "      <td>0</td>\n",
       "      <td>1</td>\n",
       "    </tr>\n",
       "    <tr>\n",
       "      <th>196</th>\n",
       "      <td>eu guardo o vaper tão bem que as vezes vou pro...</td>\n",
       "      <td>0</td>\n",
       "      <td>0</td>\n",
       "    </tr>\n",
       "    <tr>\n",
       "      <th>197</th>\n",
       "      <td>pora só queria meu vaper de novo</td>\n",
       "      <td>0</td>\n",
       "      <td>0</td>\n",
       "    </tr>\n",
       "    <tr>\n",
       "      <th>198</th>\n",
       "      <td>eu falo o vaper em si nunca usei</td>\n",
       "      <td>0</td>\n",
       "      <td>0</td>\n",
       "    </tr>\n",
       "    <tr>\n",
       "      <th>199</th>\n",
       "      <td>acho que vou comprar um vaper é isso que vou i...</td>\n",
       "      <td>0</td>\n",
       "      <td>0</td>\n",
       "    </tr>\n",
       "  </tbody>\n",
       "</table>\n",
       "<p>200 rows × 3 columns</p>\n",
       "</div>"
      ],
      "text/plain": [
       "                                                 Teste  Relevancia  \\\n",
       "0    viciar en vaper  serio  nao to acreditando me ...           0   \n",
       "1    to há meses com um vaper que não acaba to chocada           1   \n",
       "2    em minha casinha fumando meu vaper e na paz do...           0   \n",
       "3     ela usou um vaper e ainda me mostrou o vídeo ...           1   \n",
       "4     eu sábado caindo bebeda\\nespecialidade quebra...           0   \n",
       "..                                                 ...         ...   \n",
       "195                           e se eu comprar um vaper           0   \n",
       "196  eu guardo o vaper tão bem que as vezes vou pro...           0   \n",
       "197                   pora só queria meu vaper de novo           0   \n",
       "198                   eu falo o vaper em si nunca usei           0   \n",
       "199  acho que vou comprar um vaper é isso que vou i...           0   \n",
       "\n",
       "     Classificado  \n",
       "0               0  \n",
       "1               0  \n",
       "2               0  \n",
       "3               0  \n",
       "4               1  \n",
       "..            ...  \n",
       "195             1  \n",
       "196             0  \n",
       "197             0  \n",
       "198             0  \n",
       "199             0  \n",
       "\n",
       "[200 rows x 3 columns]"
      ]
     },
     "execution_count": 96,
     "metadata": {},
     "output_type": "execute_result"
    }
   ],
   "source": [
    "test"
   ]
  },
  {
   "cell_type": "code",
   "execution_count": 113,
   "metadata": {},
   "outputs": [
    {
     "name": "stdout",
     "output_type": "stream",
     "text": [
      "Acurácia: 61.5%\n",
      "Verdadeiro Positivo: 7.000000000000001%\n",
      "Falso Positivo: 23.0%\n",
      "Verdadeiro Negativo: 54.50000000000001%\n",
      "Falso Negativo: 15.5%\n"
     ]
    }
   ],
   "source": [
    "acuracia = test.loc[(test['Relevancia']==test['Classificado']),:]\n",
    "\n",
    "print(f'Acurácia: {(len(acuracia)/len(test)*100)}%')\n",
    "\n",
    "\n",
    "verdadeiro_positivo = test.loc[((test['Relevancia'] == 1) & (test['Classificado'] == 1)),:]\n",
    "falso_positivo = test.loc[((test['Relevancia'] == 0) & (test['Classificado'] == 1)),:]\n",
    "verdadeiro_negativo = test.loc[((test['Relevancia'] == 0) & (test['Classificado'] == 0)),:]\n",
    "falso_negativo = test.loc[((test['Relevancia'] == 1) & (test['Classificado'] == 0)),:]\n",
    "\n",
    "vp = len(verdadeiro_positivo)/len(test)*100\n",
    "fp = len(falso_positivo)/len(test)*100\n",
    "vn = len(verdadeiro_negativo)/len(test)*100\n",
    "fn = len(falso_negativo)/len(test)*100\n",
    "\n",
    "print(f'Verdadeiro Positivo: {vp}%')\n",
    "print(f'Falso Positivo: {fp}%')\n",
    "print(f'Verdadeiro Negativo: {vn}%')\n",
    "print(f'Falso Negativo: {fn}%')\n"
   ]
  },
  {
   "cell_type": "code",
   "execution_count": 106,
   "metadata": {},
   "outputs": [
    {
     "name": "stdout",
     "output_type": "stream",
     "text": [
      "75.0%\n"
     ]
    }
   ],
   "source": []
  },
  {
   "cell_type": "markdown",
   "metadata": {},
   "source": [
    "___\n",
    "### Concluindo"
   ]
  },
  {
   "cell_type": "markdown",
   "metadata": {},
   "source": [
    "Analisando os resultados gerados pelo classificador, notamos uma grande quantidade de verdadeiros negativos, assim como uma pequena quantidade de verdadeiros positivos. Isto pode ser explicado com o fato da classificação realizada pelo grupo avaliar um número maior de mensagens como irrelevantes do que como relevantes. Desta forma, o programa classifica mais comumente, frases como irrelevantes.\n",
    "\n",
    "Como o programa dependeu da classificação inicial do grupo e somente uma quantidade mínima dos tweets incluíam críticas reais sobre o produto, algumas das palavras presentes nas mensagens foram similares nas duas categorias, tanto relevantes, quanto irrelevantes. Isto influenciou na acurácia do classificador.\n",
    "\n",
    "Como o classificador avalia de acordo com as palavras utilizadas, os casos de sarcasmo ou dupla negação não são considerados no processo de avaliar o tweet, sendo impossível detectar mensagens que avaliam o produto negativamente de maneira sarcástica.\n",
    "\n",
    "Caso a base de dados de treinamento fosse expandida e fossem coletados mais tweets com críticas óbvias do produto, a precisão do classificador aumentaria drasticamente e poderia se tornar capaz de determinar as opiniões sobre o produto on-line, providenciando a empresa com novas informações úteis na venda do produto.\n"
   ]
  },
  {
   "cell_type": "code",
   "execution_count": null,
   "metadata": {},
   "outputs": [],
   "source": []
  },
  {
   "cell_type": "code",
   "execution_count": null,
   "metadata": {},
   "outputs": [],
   "source": []
  },
  {
   "cell_type": "markdown",
   "metadata": {},
   "source": [
    "___\n",
    "### Qualidade do Classificador a partir de novas separações dos tweets entre Treinamento e Teste\n",
    "\n",
    "Caso for fazer esse item do Projeto"
   ]
  },
  {
   "cell_type": "code",
   "execution_count": null,
   "metadata": {},
   "outputs": [],
   "source": []
  },
  {
   "cell_type": "code",
   "execution_count": null,
   "metadata": {},
   "outputs": [],
   "source": []
  },
  {
   "cell_type": "code",
   "execution_count": null,
   "metadata": {},
   "outputs": [],
   "source": []
  },
  {
   "cell_type": "markdown",
   "metadata": {},
   "source": [
    "___\n",
    "## Aperfeiçoamento:\n",
    "\n",
    "Trabalhos que conseguirem pelo menos conceito B vão evoluir em conceito dependendo da quantidade de itens avançados:\n",
    "\n",
    "* IMPLEMENTOU outras limpezas e transformações que não afetem a qualidade da informação contida nos tweets. Ex: stemming, lemmatization, stopwords\n",
    "* CORRIGIU separação de espaços entre palavras e emojis ou entre emojis e emojis\n",
    "* CRIOU categorias intermediárias de relevância baseadas na probabilidade: ex.: muito relevante, relevante, neutro, irrelevante, muito irrelevante. Pelo menos quatro categorias, com adição de mais tweets na base, conforme enunciado. (OBRIGATÓRIO PARA TRIOS, sem contar como item avançado)\n",
    "* EXPLICOU porquê não pode usar o próprio classificador para gerar mais amostras de treinamento\n",
    "* PROPÔS diferentes cenários para Naïve Bayes fora do contexto do projeto\n",
    "* SUGERIU e EXPLICOU melhorias reais com indicações concretas de como implementar (indicar como fazer e indicar material de pesquisa)\n",
    "* FEZ o item 6. Qualidade do Classificador a partir de novas separações dos tweets entre Treinamento e Teste descrito no enunciado do projeto (OBRIGATÓRIO para conceitos A ou A+)"
   ]
  },
  {
   "cell_type": "markdown",
   "metadata": {},
   "source": [
    "___\n",
    "## Referências"
   ]
  },
  {
   "cell_type": "markdown",
   "metadata": {},
   "source": [
    "[Naive Bayes and Text Classification](https://arxiv.org/pdf/1410.5329.pdf)  **Mais completo**\n",
    "\n",
    "[A practical explanation of a Naive Bayes Classifier](https://monkeylearn.com/blog/practical-explanation-naive-bayes-classifier/) **Mais simples**"
   ]
  },
  {
   "cell_type": "code",
   "execution_count": null,
   "metadata": {},
   "outputs": [],
   "source": []
  }
 ],
 "metadata": {
  "kernelspec": {
   "display_name": "Python 3",
   "language": "python",
   "name": "python3"
  },
  "language_info": {
   "codemirror_mode": {
    "name": "ipython",
    "version": 3
   },
   "file_extension": ".py",
   "mimetype": "text/x-python",
   "name": "python",
   "nbconvert_exporter": "python",
   "pygments_lexer": "ipython3",
   "version": "3.8.5"
  }
 },
 "nbformat": 4,
 "nbformat_minor": 4
}
